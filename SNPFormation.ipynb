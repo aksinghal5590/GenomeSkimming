{
 "cells": [
  {
   "cell_type": "code",
   "execution_count": 1,
   "metadata": {},
   "outputs": [],
   "source": [
    "import numpy as np\n",
    "import math\n",
    "import matplotlib.pyplot as plt"
   ]
  },
  {
   "cell_type": "code",
   "execution_count": 2,
   "metadata": {},
   "outputs": [],
   "source": [
    "def align_reads(reads, kmer):\n",
    "    '''\n",
    "        Takes in a list of reads for one kmer and modifies them to be aligned to the kmer.\n",
    "    ''' \n",
    "    locs = []\n",
    "    lens = []\n",
    "    for read in reads:\n",
    "        locs.append(read.index(kmer))\n",
    "\n",
    "    max_bases_before = max(locs)\n",
    "    for i in range(len(reads)):\n",
    "        reads[i] = '-' * (max_bases_before - locs[i]) + reads[i]\n",
    "        lens.append(len(reads[i]))\n",
    "\n",
    "    max_bases_after = max(lens) - len(kmer) - max_bases_before\n",
    "    for i in range(len(reads)):\n",
    "        bases_after = max_bases_after - (lens[i] - len(kmer) - max_bases_before)\n",
    "        read = reads[i]\n",
    "        reads[i] = read[0:max_bases_before] + read[max_bases_before + len(kmer):] + '-' * bases_after"
   ]
  },
  {
   "cell_type": "code",
   "execution_count": 3,
   "metadata": {},
   "outputs": [],
   "source": [
    "def create_snp(reads):\n",
    "    '''\n",
    "        Create snp from reads.\n",
    "    '''\n",
    "    snp = None\n",
    "    for col in range(len(reads[0])):\n",
    "        snp_col = []\n",
    "        vals = []\n",
    "        for read in reads:\n",
    "            if read[col] == '-' or not read[col] in 'ACGT':\n",
    "                snp_col.append(-1)\n",
    "            else:\n",
    "                if read[col] not in vals:\n",
    "                    vals.append(read[col])\n",
    "                snp_col.append(vals.index(read[col]))\n",
    "        snp_col = np.array(snp_col)\n",
    "        snp_col.shape = [len(snp_col), 1]\n",
    "\n",
    "        if snp is not None:\n",
    "            snp = np.concatenate((snp, snp_col), axis=1)\n",
    "        else:\n",
    "            snp = snp_col\n",
    "\n",
    "#     print(snp)\n",
    "    \n",
    "    return snp"
   ]
  },
  {
   "cell_type": "code",
   "execution_count": 4,
   "metadata": {},
   "outputs": [],
   "source": [
    "def calculate_m(snp, threshold):\n",
    "    '''\n",
    "        Calculates number of mutation columns and sample size from snp.\n",
    "    '''\n",
    "    m = 0\n",
    "    for col in range(snp.shape[1]):\n",
    "        snp_col = snp[:, col]\n",
    "        alleles_present = len(snp_col) - np.count_nonzero(snp_col == -1)\n",
    "\n",
    "        if alleles_present / len(snp_col) >= threshold:\n",
    "            if np.count_nonzero(snp_col > 0) > 0:\n",
    "                m += 1\n",
    "\n",
    "    return (m)"
   ]
  },
  {
   "cell_type": "code",
   "execution_count": 5,
   "metadata": {},
   "outputs": [],
   "source": [
    "def estimate_theta(m, n):\n",
    "    '''\n",
    "        Calculates Watterson's estimate of theta given m = number of mutation columns and n = size of sample.\n",
    "    '''\n",
    "    # Watterson estimate of theta\n",
    "    theta = m / math.log(n)\n",
    "    return theta"
   ]
  },
  {
   "cell_type": "code",
   "execution_count": null,
   "metadata": {
    "scrolled": true
   },
   "outputs": [
    {
     "name": "stdout",
     "output_type": "stream",
     "text": [
      "Number of lines in indiv file: 10599778\n"
     ]
    }
   ],
   "source": [
    "num_individuals = 20\n",
    "indiv_files = []\n",
    "num_lines = len(open(\"genome_skimming_indivkmerDictFiles/indiv_0.fa_kmerDict.txt\").readlines())\n",
    "# num_lines = len(open(\"rad_initio_indivkmerDictFiles/msp_00.1.fa_kmerDict.txt\").readlines())\n",
    "print(\"Number of lines in indiv file:\", num_lines)\n",
    "for i in range(num_individuals):\n",
    "#     individual = math.floor(i / 2)\n",
    "#     sample_num = (i % 2) + 1\n",
    "#     new_file = open(\"rad_initio_indivkmerDictFiles/msp_0\" + str(individual) + \".\" + str(sample_num) + \".fa_kmerDict.txt\")\n",
    "    new_file = open(\"genome_skimming_indivkmerDictFiles/indiv_\" + str(i) + \".fa_kmerDict.txt\")\n",
    "    indiv_files.append(new_file)\n",
    "\n",
    "snp = np.array([[]] * 20)\n",
    "    \n",
    "coverages = []\n",
    "total_m = 0\n",
    "for i in range(num_lines):\n",
    "    kmer = \"\"\n",
    "    contigs = []\n",
    "    for i in range(num_individuals):\n",
    "        line = next(indiv_files[i])\n",
    "        splitline = line.strip().split(\"\\t\")\n",
    "        if len(splitline) == 2:\n",
    "            if (len(kmer) > 0):\n",
    "                assert(kmer == splitline[0])\n",
    "            else:\n",
    "                kmer = splitline[0]\n",
    "            \n",
    "            contigs.append(splitline[1])\n",
    "    \n",
    "    coverages.append(len(contigs))\n",
    "    # Only counting kmers with coverage of 20\n",
    "    if len(contigs) < 20:\n",
    "        continue\n",
    "        \n",
    "    # Align contigs by kmer\n",
    "    align_reads(contigs, kmer)\n",
    "    \n",
    "    # Create snp\n",
    "    new_snp = create_snp(contigs)\n",
    "\n",
    "    # Get m and add to total\n",
    "    total_m += calculate_m(new_snp, 0.6)\n",
    "    \n",
    "#     if snp == None:\n",
    "#         snp = new_snp\n",
    "#     else:\n",
    "    snp = np.concatenate([snp, new_snp], axis=1)\n",
    "#     print('Total m:', total_m)\n",
    "    \n",
    "# estimate theta with all individuals\n",
    "theta_estimate = estimate_theta(total_m, num_individuals)\n",
    "\n",
    "print(\"Total m:\", total_m)\n",
    "print(\"Theta estimate:\", theta_estimate)"
   ]
  },
  {
   "cell_type": "code",
   "execution_count": 7,
   "metadata": {
    "scrolled": true
   },
   "outputs": [
    {
     "data": {
      "text/plain": [
       "(array([8281082.,  967093.,  373215.,  223471.,  157197.,  123675.,\n",
       "         110939.,  116415.,  137047.,  109644.]),\n",
       " array([ 0.,  2.,  4.,  6.,  8., 10., 12., 14., 16., 18., 20.]),\n",
       " <a list of 10 Patch objects>)"
      ]
     },
     "execution_count": 7,
     "metadata": {},
     "output_type": "execute_result"
    },
    {
     "data": {
      "image/png": "[encoded data removed]",
      "text/plain": [
       "<Figure size 432x288 with 1 Axes>"
      ]
     },
     "metadata": {
      "needs_background": "light"
     },
     "output_type": "display_data"
    }
   ],
   "source": [
    "plt.hist(coverages)"
   ]
  },
  {
   "cell_type": "code",
   "execution_count": 11,
   "metadata": {},
   "outputs": [
    {
     "name": "stdout",
     "output_type": "stream",
     "text": [
      "[[1 2 5]\n",
      " [3 4 6]]\n"
     ]
    }
   ],
   "source": [
    "arr1 = np.array([[1, 2], [3, 4]])\n",
    "arr2 = np.array([[5], [6]])\n",
    "arr3 = np.concatenate([arr1, arr2], axis=1)\n",
    "print(arr3)"
   ]
  },
  {
   "cell_type": "code",
   "execution_count": null,
   "metadata": {},
   "outputs": [],
   "source": []
  }
 ],
 "metadata": {
  "kernelspec": {
   "display_name": "Python 3",
   "language": "python",
   "name": "python3"
  },
  "language_info": {
   "codemirror_mode": {
    "name": "ipython",
    "version": 3
   },
   "file_extension": ".py",
   "mimetype": "text/x-python",
   "name": "python",
   "nbconvert_exporter": "python",
   "pygments_lexer": "ipython3",
   "version": "3.7.0"
  }
 },
 "nbformat": 4,
 "nbformat_minor": 4
}
