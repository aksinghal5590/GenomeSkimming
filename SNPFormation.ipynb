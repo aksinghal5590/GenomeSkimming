{
 "cells": [
  {
   "cell_type": "code",
   "execution_count": 1,
   "metadata": {},
   "outputs": [],
   "source": [
    "import numpy as np\n",
    "import math"
   ]
  },
  {
   "cell_type": "code",
   "execution_count": 4,
   "metadata": {},
   "outputs": [],
   "source": [
    "def align_reads(reads, kmer):\n",
    "    '''\n",
    "        Takes in a list of reads for one kmer and modifies them to be aligned to the kmer.\n",
    "    ''' \n",
    "    locs = []\n",
    "    lens = []\n",
    "    for read in reads:\n",
    "        locs.append(read.index(kmer))\n",
    "\n",
    "    max_bases_before = max(locs)\n",
    "    for i in range(len(reads)):\n",
    "        reads[i] = '-' * (max_bases_before - locs[i]) + reads[i]\n",
    "        lens.append(len(reads[i]))\n",
    "\n",
    "    max_bases_after = max(lens) - len(kmer) - max_bases_before\n",
    "    for i in range(len(reads)):\n",
    "        bases_after = max_bases_after - (lens[i] - len(kmer) - max_bases_before)\n",
    "        read = reads[i]\n",
    "        reads[i] = read[0:max_bases_before] + read[max_bases_before + len(kmer):] + '-' * bases_after"
   ]
  },
  {
   "cell_type": "code",
   "execution_count": 28,
   "metadata": {},
   "outputs": [],
   "source": [
    "def create_snp(reads):\n",
    "    '''\n",
    "        Create snp from reads.\n",
    "    '''\n",
    "    snp = None\n",
    "    for col in range(len(reads[0])):\n",
    "        snp_col = []\n",
    "        vals = []\n",
    "        for read in reads:\n",
    "            if read[col] == '-':\n",
    "                snp_col.append(-1)\n",
    "            else:\n",
    "                if read[col] not in vals:\n",
    "                    vals.append(read[col])\n",
    "                snp_col.append(vals.index(read[col]))\n",
    "        snp_col = np.array(snp_col)\n",
    "        snp_col.shape = [len(snp_col), 1]\n",
    "\n",
    "        if snp is not None:\n",
    "            snp = np.concatenate((snp, snp_col), axis=1)\n",
    "        else:\n",
    "            snp = snp_col\n",
    "\n",
    "#     print(snp)\n",
    "    \n",
    "    return snp"
   ]
  },
  {
   "cell_type": "code",
   "execution_count": 6,
   "metadata": {},
   "outputs": [],
   "source": [
    "def calculate_m(snp):\n",
    "    '''\n",
    "        Calculates number of mutation columns and sample size from snp.\n",
    "    '''\n",
    "    m = 0\n",
    "    for col in range(snp.shape[1]):\n",
    "        snp_col = snp[:, col]\n",
    "        alleles_present = len(snp_col) - np.count_nonzero(snp_col == -1)\n",
    "\n",
    "        if alleles_present / len(snp_col) >= 0.8:\n",
    "            if np.count_nonzero(snp_col > 0) > 0:\n",
    "                m += 1\n",
    "\n",
    "    return (m)"
   ]
  },
  {
   "cell_type": "code",
   "execution_count": 7,
   "metadata": {},
   "outputs": [],
   "source": [
    "def estimate_theta(m, n):\n",
    "    '''\n",
    "        Calculates Watterson's estimate of theta given m = number of mutation columns and n = size of sample.\n",
    "    '''\n",
    "    # Watterson estimate of theta\n",
    "    theta = m / math.log(n)\n",
    "    return theta"
   ]
  },
  {
   "cell_type": "code",
   "execution_count": 34,
   "metadata": {
    "scrolled": true
   },
   "outputs": [
    {
     "name": "stdout",
     "output_type": "stream",
     "text": [
      "Number of lines in indiv file: 218006\n",
      "Total m: 275944\n",
      "Theta estimate: 92112.37013267327\n"
     ]
    }
   ],
   "source": [
    "num_individuals = 20\n",
    "indiv_files = []\n",
    "num_lines = len(open(\"rad_initio_indivkmerDictFiles/msp_00.1.fa_kmerDict.txt\").readlines())\n",
    "print(\"Number of lines in indiv file:\", num_lines)\n",
    "for i in range(num_individuals):\n",
    "    individual = math.floor(i / 2)\n",
    "    sample_num = (i % 2) + 1\n",
    "    new_file = open(\"rad_initio_indivkmerDictFiles/msp_0\" + str(individual) + \".\" + str(sample_num) + \".fa_kmerDict.txt\")\n",
    "    indiv_files.append(new_file)\n",
    "\n",
    "total_m = 0\n",
    "for i in range(num_lines):\n",
    "    kmer = \"\"\n",
    "    contigs = []\n",
    "    for i in range(num_individuals):\n",
    "        line = next(indiv_files[i])\n",
    "        splitline = line.strip().split(\"\\t\")\n",
    "        if len(splitline) == 2:\n",
    "            if (len(kmer) > 0):\n",
    "                assert(kmer == splitline[0])\n",
    "            else:\n",
    "                kmer = splitline[0]\n",
    "            \n",
    "            contigs.append(splitline[1])\n",
    "    \n",
    "    # Only counting kmers with coverage of 20\n",
    "    if len(contigs) <= 2:\n",
    "        continue\n",
    "        \n",
    "    # Align contigs by kmer\n",
    "    align_reads(contigs, kmer)\n",
    "    \n",
    "    # Create snp\n",
    "    snp = create_snp(contigs)\n",
    "    \n",
    "    # Get m and add to total\n",
    "    total_m += calculate_m(snp)\n",
    "#     print('Total m:', total_m)\n",
    "    \n",
    "# estimate theta with all individuals\n",
    "theta_estimate = estimate_theta(total_m, num_individuals)\n",
    "\n",
    "print(\"Total m:\", total_m)\n",
    "print(\"Theta estimate:\", theta_estimate)"
   ]
  },
  {
   "cell_type": "code",
   "execution_count": null,
   "metadata": {},
   "outputs": [],
   "source": []
  }
 ],
 "metadata": {
  "kernelspec": {
   "display_name": "Python 3",
   "language": "python",
   "name": "python3"
  },
  "language_info": {
   "codemirror_mode": {
    "name": "ipython",
    "version": 3
   },
   "file_extension": ".py",
   "mimetype": "text/x-python",
   "name": "python",
   "nbconvert_exporter": "python",
   "pygments_lexer": "ipython3",
   "version": "3.7.0"
  }
 },
 "nbformat": 4,
 "nbformat_minor": 4
}
