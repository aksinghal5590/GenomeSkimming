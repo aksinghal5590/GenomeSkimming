{
 "cells": [
  {
   "cell_type": "code",
   "execution_count": 28,
   "metadata": {},
   "outputs": [],
   "source": [
    "import numpy as np"
   ]
  },
  {
   "cell_type": "code",
   "execution_count": 77,
   "metadata": {},
   "outputs": [],
   "source": [
    "# Sample kmer dict, read from file later\n",
    "kmers = {\n",
    "    'ACGATACATAGA': [\n",
    "        'TAGACGATACATAGAAAAA', \n",
    "        'GCCATACGATACATAGATCCTTT', \n",
    "        'GGGGACGATACATAGATTG', \n",
    "        'CCCCCCACGATACATAGATCGT', \n",
    "        'TTACGATACATAGATT'],\n",
    "}"
   ]
  },
  {
   "cell_type": "code",
   "execution_count": 96,
   "metadata": {},
   "outputs": [
    {
     "name": "stdout",
     "output_type": "stream",
     "text": [
      "AGAA\n",
      "ATTC\n",
      "GGTT\n",
      "CCTC\n",
      "TTTT\n"
     ]
    }
   ],
   "source": [
    "kmer = list(kmers.keys())[0]\n",
    "reads = kmers[kmer][:]\n",
    "locs = []\n",
    "lens = []\n",
    "for read in reads:\n",
    "    locs.append(read.index(kmer))\n",
    "\n",
    "bases_before = min(locs)\n",
    "for i in range(len(reads)):\n",
    "    lens.append(len(reads[i]))\n",
    "    reads[i] = reads[i][locs[i] - bases_before:]\n",
    "    \n",
    "bases_after = min(lens) - len(kmer) - bases_before\n",
    "for i in range(len(reads)):\n",
    "    read = reads[i]\n",
    "    reads[i] = read[0:bases_before] + read[bases_before + len(kmer):bases_before + len(kmer) + bases_after]\n",
    "\n",
    "for read in reads:\n",
    "    print(read)"
   ]
  },
  {
   "cell_type": "code",
   "execution_count": 71,
   "metadata": {},
   "outputs": [
    {
     "name": "stdout",
     "output_type": "stream",
     "text": [
      "[[0 0 0 0]\n",
      " [0 1 0 1]\n",
      " [1 0 0 1]\n",
      " [2 2 0 1]\n",
      " [3 1 1 2]]\n"
     ]
    }
   ],
   "source": [
    "# Create snp from reads\n",
    "snp = []\n",
    "snp_trial = None\n",
    "for col in range(len(reads[0])):\n",
    "    snp_col = []\n",
    "    vals = []\n",
    "    for read in reads:\n",
    "        if read[col] not in vals:\n",
    "            vals.append(read[col])\n",
    "\n",
    "        snp_col.append(vals.index(read[col]))\n",
    "    snp_col = np.array(snp_col)\n",
    "    snp_col.shape = [len(snp_col), 1]\n",
    "    \n",
    "    if snp_trial is not None:\n",
    "        snp_trial = np.concatenate((snp_trial, snp_col), axis=1)\n",
    "    else:\n",
    "        snp_trial = snp_col\n",
    "    \n",
    "print(snp_trial)"
   ]
  },
  {
   "cell_type": "code",
   "execution_count": 54,
   "metadata": {},
   "outputs": [
    {
     "data": {
      "text/plain": [
       "array([[1, 4, 7],\n",
       "       [2, 5, 8],\n",
       "       [3, 6, 9]])"
      ]
     },
     "execution_count": 54,
     "metadata": {},
     "output_type": "execute_result"
    }
   ],
   "source": [
    "arr = np.array([1, 2, 3])\n",
    "arr2 = np.array([4, 5, 6])\n",
    "arr3 = np.array([7, 8, 9])\n",
    "arr.shape = [3, 1]\n",
    "arr2.shape = [3, 1]\n",
    "arr3.shape = [3, 1]\n",
    "arr4 = np.concatenate((arr, arr2), axis=1)\n",
    "arr5 = np.concatenate((arr4, arr3), axis=1)\n",
    "arr5"
   ]
  },
  {
   "cell_type": "code",
   "execution_count": null,
   "metadata": {},
   "outputs": [],
   "source": []
  }
 ],
 "metadata": {
  "kernelspec": {
   "display_name": "Python 3",
   "language": "python",
   "name": "python3"
  },
  "language_info": {
   "codemirror_mode": {
    "name": "ipython",
    "version": 3
   },
   "file_extension": ".py",
   "mimetype": "text/x-python",
   "name": "python",
   "nbconvert_exporter": "python",
   "pygments_lexer": "ipython3",
   "version": "3.7.0"
  }
 },
 "nbformat": 4,
 "nbformat_minor": 4
}
