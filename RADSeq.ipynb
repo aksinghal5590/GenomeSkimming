{
 "cells": [
  {
   "cell_type": "code",
   "execution_count": 4,
   "metadata": {},
   "outputs": [],
   "source": [
    "from Bio import pairwise2\n",
    "from Bio.SubsMat import MatrixInfo as matlist\n",
    "\n",
    "class rad_loci:\n",
    "    def __init__(self, l_id, seq):\n",
    "        self.l_id = l_id\n",
    "        self.seq = seq\n",
    "        self.m_count = []\n",
    "        for i in range(len(self.seq)):\n",
    "            self.m_count.append(0)\n",
    "            \n",
    "    def add_mutation_count(self, m_seq):\n",
    "        seq_len = 0\n",
    "        if len(self.seq) < len(m_seq):\n",
    "            seq_len = len(self.seq)\n",
    "        else:\n",
    "            seq_len = len(m_seq)\n",
    "            \n",
    "        for i in range(seq_len):\n",
    "            if m_seq[i] != self.seq[i]:\n",
    "                self.m_count[i] += 1\n",
    "                \n",
    "    def get_m_count(self):\n",
    "        return self.m_count"
   ]
  },
  {
   "cell_type": "code",
   "execution_count": 21,
   "metadata": {},
   "outputs": [],
   "source": [
    "from Bio import SeqIO\n",
    "import os\n",
    "import glob\n",
    "\n",
    "def create_afs(resource_dir):\n",
    "    allele_map = dict()\n",
    "    if not os.getcwd().endswith(resource_dir):\n",
    "        os.chdir(resource_dir)\n",
    "    fasta_sequences = SeqIO.parse(open('reference_rad_loci.fa'),'fasta')\n",
    "    i = 1\n",
    "    for fasta in fasta_sequences:\n",
    "        l_id, seq = fasta.id, str(fasta.seq)\n",
    "        rl = rad_loci(l_id, seq)\n",
    "        allele_map[l_id] = rl\n",
    "        if i == 100:\n",
    "            break\n",
    "        i += 1\n",
    "    for filename in glob.glob('*.alleles.fa'):\n",
    "        fasta_sequences = SeqIO.parse(open(filename),'fasta')\n",
    "        i = 1\n",
    "        for fasta in fasta_sequences:\n",
    "            l_id, seq = fasta.id, str(fasta.seq)\n",
    "            l_id = l_id.split(':')[0]\n",
    "            rl = allele_map.get(l_id)\n",
    "            rl.add_mutation_count(seq)\n",
    "            if i == 100:\n",
    "                break\n",
    "            i += 1\n",
    "    \n",
    "    afs = []\n",
    "    for i in range(41):\n",
    "        afs.append(0)\n",
    "    for l_id in allele_map.keys():\n",
    "        rl = allele_map.get(l_id)\n",
    "        m_c = rl.m_count\n",
    "        for i in range(len(m_c)):\n",
    "            afs[m_c[i]] += 1\n",
    "            \n",
    "    os.chdir('..')\n",
    "    return afs"
   ]
  },
  {
   "cell_type": "code",
   "execution_count": 22,
   "metadata": {},
   "outputs": [
    {
     "name": "stdout",
     "output_type": "stream",
     "text": [
      "[99144, 62, 44, 12, 11, 10, 15, 8, 9, 10, 11, 6, 10, 7, 11, 5, 1, 6, 1, 1, 5, 2, 2, 3, 2, 3, 1, 2, 8, 3, 0, 2, 0, 566, 1, 0, 3, 1, 7, 3, 2]\n"
     ]
    }
   ],
   "source": [
    "afs = create_afs('alleles')\n",
    "print(afs)"
   ]
  },
  {
   "cell_type": "code",
   "execution_count": 19,
   "metadata": {},
   "outputs": [
    {
     "name": "stdout",
     "output_type": "stream",
     "text": [
      "2988.170731707317\n"
     ]
    }
   ],
   "source": [
    "th = 0\n",
    "for i in range(len(afs)):\n",
    "    th += afs[i]*(i+1)\n",
    "th = th/len(afs)\n",
    "\n",
    "print(th)"
   ]
  },
  {
   "cell_type": "code",
   "execution_count": 23,
   "metadata": {},
   "outputs": [
    {
     "name": "stdout",
     "output_type": "stream",
     "text": [
      "100000\n"
     ]
    }
   ],
   "source": [
    "sum = 0\n",
    "for i in range(len(afs)):\n",
    "    sum += afs[i]\n",
    "print(sum)"
   ]
  }
 ],
 "metadata": {
  "kernelspec": {
   "display_name": "Python 3",
   "language": "python",
   "name": "python3"
  },
  "language_info": {
   "codemirror_mode": {
    "name": "ipython",
    "version": 3
   },
   "file_extension": ".py",
   "mimetype": "text/x-python",
   "name": "python",
   "nbconvert_exporter": "python",
   "pygments_lexer": "ipython3",
   "version": "3.7.3"
  }
 },
 "nbformat": 4,
 "nbformat_minor": 2
}
