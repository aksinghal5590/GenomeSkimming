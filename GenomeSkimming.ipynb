{
 "cells": [
  {
   "cell_type": "code",
   "execution_count": 3,
   "metadata": {},
   "outputs": [],
   "source": [
    "from Bio import SeqIO\n",
    "import os\n",
    "import glob\n",
    "\n",
    "FASTA_SIZE = 80\n",
    "\n",
    "def getChromosome(chr_id, reference_file):\n",
    "    outname = 'chr' + chr_id + '.fa'\n",
    "    infile = open(reference_file)\n",
    "    fasta_sequences = SeqIO.parse(infile,'fasta')\n",
    "    for fasta in fasta_sequences:\n",
    "        if chr_id not in fasta.id:\n",
    "            print(fasta.id)\n",
    "            continue\n",
    "        print(fasta.id)\n",
    "        outfile = open(outname, 'w')\n",
    "        seq = str(fasta.seq)\n",
    "        outfile.write('>' + chr_id)\n",
    "        for i in range(len(seq)):\n",
    "            if i%FASTA_SIZE == 0:\n",
    "                outfile.write('\\n')\n",
    "            outfile.write(seq[i])\n",
    "        outfile.close()\n",
    "    infile.close()\n",
    "\n",
    "\n",
    "def create_seq_fasta(ref_dir):\n",
    "    for filename in glob.glob(ref_dir + '/*.txt'):\n",
    "        outfileprefix = filename.split('\\\\')[1].split('.')[0]\n",
    "        outfile = outfileprefix + '.fa'\n",
    "        with open(outfile, 'w') as ofile:\n",
    "            ofile.write('>')\n",
    "            ofile.write(outfileprefix)\n",
    "            with open(filename, 'r') as seq_text_file:\n",
    "                for line in seq_text_file:\n",
    "                    for i in range(len(line)):\n",
    "                        if i%FASTA_SIZE == 0:\n",
    "                            ofile.write('\\n')\n",
    "                        ofile.write(line[i])\n",
    "                        \n",
    "def convert_to_fasta():\n",
    "    for filename in glob.glob('reads\\\\*.fq'):\n",
    "        infile = open(filename, 'r')\n",
    "        outname = 'reads_fa\\\\' + filename.split('\\\\')[1].split('.')[0] + '.fa'\n",
    "        outfile = open(outname, 'w')\n",
    "        SeqIO.convert(infile, 'fastq', outfile, 'fasta')\n",
    "        infile.close()\n",
    "        outfile.close()"
   ]
  },
  {
   "cell_type": "code",
   "execution_count": 2,
   "metadata": {},
   "outputs": [],
   "source": [
    "os.chdir('resources')\n",
    "getChromosome('X', 'c_elegans_dna.fa')\n",
    "os.chdir('..')"
   ]
  },
  {
   "cell_type": "code",
   "execution_count": 4,
   "metadata": {},
   "outputs": [],
   "source": [
    "os.chdir('resources/chrX')\n",
    "create_seq_fasta('indivGenotypes')\n",
    "os.chdir('../..')"
   ]
  },
  {
   "cell_type": "code",
   "execution_count": 7,
   "metadata": {},
   "outputs": [],
   "source": [
    "convert_to_fasta()"
   ]
  },
  {
   "cell_type": "code",
   "execution_count": 1,
   "metadata": {},
   "outputs": [],
   "source": []
  },
  {
   "cell_type": "code",
   "execution_count": 17,
   "metadata": {},
   "outputs": [
    {
     "name": "stdout",
     "output_type": "stream",
     "text": [
      "I\n",
      "II\n",
      "III\n",
      "IV\n",
      "V\n",
      "X\n",
      "MtDNA\n"
     ]
    }
   ],
   "source": []
  }
 ],
 "metadata": {
  "kernelspec": {
   "display_name": "Python 3",
   "language": "python",
   "name": "python3"
  },
  "language_info": {
   "codemirror_mode": {
    "name": "ipython",
    "version": 3
   },
   "file_extension": ".py",
   "mimetype": "text/x-python",
   "name": "python",
   "nbconvert_exporter": "python",
   "pygments_lexer": "ipython3",
   "version": "3.7.3"
  }
 },
 "nbformat": 4,
 "nbformat_minor": 2
}
