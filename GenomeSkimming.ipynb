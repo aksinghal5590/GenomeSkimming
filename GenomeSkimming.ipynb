{
 "cells": [
  {
   "cell_type": "code",
   "execution_count": 24,
   "metadata": {},
   "outputs": [],
   "source": [
    "class rad_loci:\n",
    "    def __init__(self, l_id, seq):\n",
    "        self.l_id = l_id\n",
    "        self.seq = seq\n",
    "        self.m_count = []\n",
    "        for i in range(len(self.seq)):\n",
    "            self.m_count.append(0)\n",
    "            \n",
    "    def add_mutation_count(self, m_seq):\n",
    "        seq_len = 0\n",
    "        if len(self.seq) < len(m_seq):\n",
    "            seq_len = len(self.seq)\n",
    "        else:\n",
    "            seq_len = len(m_seq)\n",
    "        for i in range(seq_len):\n",
    "            if m_seq[i] != self.seq[i]:\n",
    "                self.m_count[i] += 1\n",
    "                \n",
    "    def get_m_count(self):\n",
    "        return self.m_count"
   ]
  },
  {
   "cell_type": "code",
   "execution_count": 27,
   "metadata": {},
   "outputs": [],
   "source": [
    "from Bio import SeqIO\n",
    "import os\n",
    "import glob\n",
    "\n",
    "def create_afs():\n",
    "    print(os.getcwd())\n",
    "    allele_map = dict()\n",
    "    fasta_sequences = SeqIO.parse(open('reference_rad_loci.fa'),'fasta')\n",
    "    for fasta in fasta_sequences:\n",
    "        l_id, seq = fasta.id, str(fasta.seq)\n",
    "        rl = rad_loci(l_id, seq)\n",
    "        allele_map[l_id] = rl\n",
    "    for filename in glob.glob('*.alleles.fa'):\n",
    "        fasta_sequences = SeqIO.parse(open(filename),'fasta')\n",
    "        for fasta in fasta_sequences:\n",
    "            l_id, seq = fasta.id, str(fasta.seq)\n",
    "            l_id = l_id.split(':')[0]\n",
    "            rl = allele_map.get(l_id)\n",
    "            rl.add_mutation_count(seq)\n",
    "    \n",
    "    afs = []\n",
    "    for i in range(41):\n",
    "        afs.append(0)\n",
    "    for l_id in allele_map.keys():\n",
    "        rl = allele_map.get(l_id)\n",
    "        m_c = rl.m_count\n",
    "        for i in range(len(m_c)):\n",
    "            afs[m_c[i]] += 1\n",
    "            \n",
    "    return afs"
   ]
  },
  {
   "cell_type": "code",
   "execution_count": 28,
   "metadata": {},
   "outputs": [
    {
     "name": "stdout",
     "output_type": "stream",
     "text": [
      "C:\\Workspace\\Assignments\\cse280a\\alleles\n",
      "[621670, 2199, 496, 480, 1505, 492, 137, 775, 377, 77, 190, 90, 755, 205, 377, 510, 33, 49, 62, 28, 49, 119, 1332, 43, 25, 44, 26, 341, 33, 39, 39, 19, 27, 578, 19, 17, 19, 98, 598, 22, 6]\n"
     ]
    }
   ],
   "source": [
    "afs = create_afs()\n",
    "print(afs)"
   ]
  },
  {
   "cell_type": "code",
   "execution_count": 34,
   "metadata": {},
   "outputs": [
    {
     "name": "stdout",
     "output_type": "stream",
     "text": [
      "19173.146341463416\n"
     ]
    }
   ],
   "source": [
    "th = 0\n",
    "for i in range(len(afs)):\n",
    "    th += afs[i]*(i+1)\n",
    "th = th/len(afs)\n",
    "\n",
    "print(th)"
   ]
  }
 ],
 "metadata": {
  "kernelspec": {
   "display_name": "Python 3",
   "language": "python",
   "name": "python3"
  },
  "language_info": {
   "codemirror_mode": {
    "name": "ipython",
    "version": 3
   },
   "file_extension": ".py",
   "mimetype": "text/x-python",
   "name": "python",
   "nbconvert_exporter": "python",
   "pygments_lexer": "ipython3",
   "version": "3.7.3"
  }
 },
 "nbformat": 4,
 "nbformat_minor": 2
}
