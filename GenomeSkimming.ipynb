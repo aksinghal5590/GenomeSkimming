{
 "cells": [
  {
   "cell_type": "code",
   "execution_count": 1,
   "metadata": {},
   "outputs": [],
   "source": [
    "from Bio import SeqIO\n",
    "import os\n",
    "import glob\n",
    "\n",
    "FASTA_SIZE = 80\n",
    "\n",
    "def create_seq_fasta(ref_dir):\n",
    "    for filename in glob.glob(ref_dir + '/*.txt'):\n",
    "        outfileprefix = filename.split('\\\\')[1].split('.')[0]\n",
    "        outfile = outfileprefix + '.fa'\n",
    "        with open(outfile, 'w') as ofile:\n",
    "            ofile.write('>')\n",
    "            ofile.write(outfileprefix)\n",
    "            with open(filename, 'r') as seq_text_file:\n",
    "                for line in seq_text_file:\n",
    "                    for i in range(len(line)):\n",
    "                        if i%FASTA_SIZE == 0:\n",
    "                            ofile.write('\\n')\n",
    "                        ofile.write(line[i])"
   ]
  },
  {
   "cell_type": "code",
   "execution_count": 2,
   "metadata": {},
   "outputs": [],
   "source": [
    "ref_dir = 'indivGenotypes'\n",
    "create_seq_fasta(ref_dir)"
   ]
  },
  {
   "cell_type": "code",
   "execution_count": 6,
   "metadata": {},
   "outputs": [],
   "source": [
    "def convert_to_fasta():\n",
    "    for filename in glob.glob('reads\\\\*.fq'):\n",
    "        infile = open(filename, 'r')\n",
    "        outname = 'reads_fa\\\\' + filename.split('\\\\')[1].split('.')[0] + '.fa'\n",
    "        outfile = open(outname, 'w')\n",
    "        SeqIO.convert(infile, 'fastq', outfile, 'fasta')\n",
    "        infile.close()\n",
    "        outfile.close()"
   ]
  },
  {
   "cell_type": "code",
   "execution_count": 7,
   "metadata": {},
   "outputs": [],
   "source": [
    "convert_to_fasta()"
   ]
  }
 ],
 "metadata": {
  "kernelspec": {
   "display_name": "Python 3",
   "language": "python",
   "name": "python3"
  },
  "language_info": {
   "codemirror_mode": {
    "name": "ipython",
    "version": 3
   },
   "file_extension": ".py",
   "mimetype": "text/x-python",
   "name": "python",
   "nbconvert_exporter": "python",
   "pygments_lexer": "ipython3",
   "version": "3.7.3"
  }
 },
 "nbformat": 4,
 "nbformat_minor": 2
}
